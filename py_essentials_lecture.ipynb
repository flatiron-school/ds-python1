{
 "cells": [
  {
   "cell_type": "markdown",
   "metadata": {
    "toc": true
   },
   "source": [
    "<h1>Table of Contents<span class=\"tocSkip\"></span></h1>\n",
    "<div class=\"toc\"><ul class=\"toc-item\"><li><span><a href=\"#Python:-No-Need-to-Be-Afraid-of-Snakes-🐍\" data-toc-modified-id=\"Python:-No-Need-to-Be-Afraid-of-Snakes-🐍-1\"><span class=\"toc-item-num\">1&nbsp;&nbsp;</span>Python: No Need to Be Afraid of Snakes 🐍</a></span><ul class=\"toc-item\"><li><span><a href=\"#Agenda\" data-toc-modified-id=\"Agenda-1.1\"><span class=\"toc-item-num\">1.1&nbsp;&nbsp;</span>Agenda</a></span></li></ul></li><li><span><a href=\"#Python-Fundamentals\" data-toc-modified-id=\"Python-Fundamentals-2\"><span class=\"toc-item-num\">2&nbsp;&nbsp;</span>Python Fundamentals</a></span><ul class=\"toc-item\"><li><span><a href=\"#Variables\" data-toc-modified-id=\"Variables-2.1\"><span class=\"toc-item-num\">2.1&nbsp;&nbsp;</span>Variables</a></span></li><li><span><a href=\"#Coding-Conventions\" data-toc-modified-id=\"Coding-Conventions-2.2\"><span class=\"toc-item-num\">2.2&nbsp;&nbsp;</span>Coding Conventions</a></span><ul class=\"toc-item\"><li><span><a href=\"#We're-Not-Animals,-We-Have-Standards!-🧐\" data-toc-modified-id=\"We're-Not-Animals,-We-Have-Standards!-🧐-2.2.1\"><span class=\"toc-item-num\">2.2.1&nbsp;&nbsp;</span>We're Not Animals, We Have Standards! 🧐</a></span></li><li><span><a href=\"#Other-Best-Practices\" data-toc-modified-id=\"Other-Best-Practices-2.2.2\"><span class=\"toc-item-num\">2.2.2&nbsp;&nbsp;</span>Other Best Practices</a></span><ul class=\"toc-item\"><li><span><a href=\"#Readability\" data-toc-modified-id=\"Readability-2.2.2.1\"><span class=\"toc-item-num\">2.2.2.1&nbsp;&nbsp;</span>Readability</a></span></li><li><span><a href=\"#Don't-Repeat-Yourself\" data-toc-modified-id=\"Don't-Repeat-Yourself-2.2.2.2\"><span class=\"toc-item-num\">2.2.2.2&nbsp;&nbsp;</span>Don't Repeat Yourself</a></span></li><li><span><a href=\"#Security\" data-toc-modified-id=\"Security-2.2.2.3\"><span class=\"toc-item-num\">2.2.2.3&nbsp;&nbsp;</span>Security</a></span></li></ul></li></ul></li></ul></li><li><span><a href=\"#Data-Types\" data-toc-modified-id=\"Data-Types-3\"><span class=\"toc-item-num\">3&nbsp;&nbsp;</span>Data Types</a></span><ul class=\"toc-item\"><li><span><a href=\"#Integers-and-Floats\" data-toc-modified-id=\"Integers-and-Floats-3.1\"><span class=\"toc-item-num\">3.1&nbsp;&nbsp;</span>Integers and Floats</a></span><ul class=\"toc-item\"><li><span><a href=\"#Ranges\" data-toc-modified-id=\"Ranges-3.1.1\"><span class=\"toc-item-num\">3.1.1&nbsp;&nbsp;</span>Ranges</a></span></li></ul></li><li><span><a href=\"#Booleans\" data-toc-modified-id=\"Booleans-3.2\"><span class=\"toc-item-num\">3.2&nbsp;&nbsp;</span>Booleans</a></span><ul class=\"toc-item\"><li><span><a href=\"#0-and-1\" data-toc-modified-id=\"0-and-1-3.2.1\"><span class=\"toc-item-num\">3.2.1&nbsp;&nbsp;</span>0 and 1</a></span></li></ul></li><li><span><a href=\"#Strings\" data-toc-modified-id=\"Strings-3.3\"><span class=\"toc-item-num\">3.3&nbsp;&nbsp;</span>Strings</a></span><ul class=\"toc-item\"><li><span><a href=\"#Characters\" data-toc-modified-id=\"Characters-3.3.1\"><span class=\"toc-item-num\">3.3.1&nbsp;&nbsp;</span>Characters</a></span></li><li><span><a href=\"#Indexing\" data-toc-modified-id=\"Indexing-3.3.2\"><span class=\"toc-item-num\">3.3.2&nbsp;&nbsp;</span>Indexing</a></span></li><li><span><a href=\"#Slicing\" data-toc-modified-id=\"Slicing-3.3.3\"><span class=\"toc-item-num\">3.3.3&nbsp;&nbsp;</span>Slicing</a></span></li><li><span><a href=\"#String-Methods\" data-toc-modified-id=\"String-Methods-3.3.4\"><span class=\"toc-item-num\">3.3.4&nbsp;&nbsp;</span>String Methods</a></span></li><li><span><a href=\"#f-Strings\" data-toc-modified-id=\"f-Strings-3.3.5\"><span class=\"toc-item-num\">3.3.5&nbsp;&nbsp;</span>f-Strings</a></span></li></ul></li><li><span><a href=\"#Casting\" data-toc-modified-id=\"Casting-3.4\"><span class=\"toc-item-num\">3.4&nbsp;&nbsp;</span>Casting</a></span></li></ul></li><li><span><a href=\"#Data-Structures\" data-toc-modified-id=\"Data-Structures-4\"><span class=\"toc-item-num\">4&nbsp;&nbsp;</span>Data Structures</a></span><ul class=\"toc-item\"><li><span><a href=\"#Lists\" data-toc-modified-id=\"Lists-4.1\"><span class=\"toc-item-num\">4.1&nbsp;&nbsp;</span>Lists</a></span><ul class=\"toc-item\"><li><span><a href=\"#List-Methods\" data-toc-modified-id=\"List-Methods-4.1.1\"><span class=\"toc-item-num\">4.1.1&nbsp;&nbsp;</span>List Methods</a></span></li></ul></li><li><span><a href=\"#Tuples\" data-toc-modified-id=\"Tuples-4.2\"><span class=\"toc-item-num\">4.2&nbsp;&nbsp;</span>Tuples</a></span></li><li><span><a href=\"#Sets\" data-toc-modified-id=\"Sets-4.3\"><span class=\"toc-item-num\">4.3&nbsp;&nbsp;</span>Sets</a></span></li><li><span><a href=\"#Dictionaries\" data-toc-modified-id=\"Dictionaries-4.4\"><span class=\"toc-item-num\">4.4&nbsp;&nbsp;</span>Dictionaries</a></span><ul class=\"toc-item\"><li><span><a href=\"#Dictionary-Methods\" data-toc-modified-id=\"Dictionary-Methods-4.4.1\"><span class=\"toc-item-num\">4.4.1&nbsp;&nbsp;</span>Dictionary Methods</a></span></li></ul></li><li><span><a href=\"#Level-Up:-Iterators\" data-toc-modified-id=\"Level-Up:-Iterators-4.5\"><span class=\"toc-item-num\">4.5&nbsp;&nbsp;</span>Level Up: Iterators</a></span></li></ul></li></ul></div>"
   ]
  },
  {
   "cell_type": "markdown",
   "metadata": {},
   "source": [
    "![python](data:image/jpeg;base64,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)"
   ]
  },
  {
   "cell_type": "markdown",
   "metadata": {
    "heading_collapsed": true
   },
   "source": [
    "# Python: No Need to Be Afraid of Snakes 🐍"
   ]
  },
  {
   "cell_type": "markdown",
   "metadata": {
    "heading_collapsed": true,
    "hidden": true
   },
   "source": [
    "## Agenda"
   ]
  },
  {
   "cell_type": "markdown",
   "metadata": {
    "hidden": true
   },
   "source": [
    "Students will be able to (SWBAT):\n",
    "\n",
    "- Distinguish and use objects of different data types\n",
    "- Slice into strings, lists, and tuples\n",
    "- Use string, list, and dictionary methods\n",
    "- Use `if` and `else` statements"
   ]
  },
  {
   "cell_type": "markdown",
   "metadata": {
    "heading_collapsed": true
   },
   "source": [
    "# Python Fundamentals"
   ]
  },
  {
   "cell_type": "markdown",
   "metadata": {
    "hidden": true
   },
   "source": [
    "Python can perform arithmetic calculations:"
   ]
  },
  {
   "cell_type": "code",
   "execution_count": null,
   "metadata": {
    "hidden": true
   },
   "outputs": [],
   "source": [
    "2 + 2 * 10"
   ]
  },
  {
   "cell_type": "code",
   "execution_count": null,
   "metadata": {
    "hidden": true
   },
   "outputs": [],
   "source": [
    "8.011 / 2.55"
   ]
  },
  {
   "cell_type": "code",
   "execution_count": null,
   "metadata": {
    "hidden": true
   },
   "outputs": [],
   "source": [
    "375 % 5"
   ]
  },
  {
   "cell_type": "markdown",
   "metadata": {
    "hidden": true
   },
   "source": [
    "But it can do so much more than this!"
   ]
  },
  {
   "cell_type": "markdown",
   "metadata": {
    "heading_collapsed": true,
    "hidden": true
   },
   "source": [
    "## Variables"
   ]
  },
  {
   "cell_type": "markdown",
   "metadata": {
    "hidden": true
   },
   "source": [
    "Often we want to store values for use throughout a program - we do this with **variables**. To declare a variable, simply write the name of the variable, followed by an '=', followed by the value you want to store in the variable. "
   ]
  },
  {
   "cell_type": "markdown",
   "metadata": {
    "hidden": true
   },
   "source": [
    "One great thing about Python is that we do not have to specify the type of a variable when declaring it."
   ]
  },
  {
   "cell_type": "code",
   "execution_count": null,
   "metadata": {
    "hidden": true
   },
   "outputs": [],
   "source": [
    "fav_num = 123\n",
    "print(fav_num)"
   ]
  },
  {
   "cell_type": "markdown",
   "metadata": {
    "hidden": true
   },
   "source": [
    "> **Note on Notation**\n",
    ">\n",
    "> In notebooks, the last line in a cell will be printed in the _output_. This is similar to doing a `print` statement on the last line. Technically, it is actually calling `display()` which is slightly different but similar to `print()`."
   ]
  },
  {
   "cell_type": "markdown",
   "metadata": {
    "hidden": true
   },
   "source": [
    "If you make a mistake when assigning a value to a variable..."
   ]
  },
  {
   "cell_type": "code",
   "execution_count": null,
   "metadata": {
    "hidden": true
   },
   "outputs": [],
   "source": [
    "name = 'Princd'\n",
    "name"
   ]
  },
  {
   "cell_type": "markdown",
   "metadata": {
    "hidden": true
   },
   "source": [
    "just re-assign it:"
   ]
  },
  {
   "cell_type": "code",
   "execution_count": null,
   "metadata": {
    "hidden": true
   },
   "outputs": [],
   "source": [
    "name = 'Prince'\n",
    "name"
   ]
  },
  {
   "cell_type": "markdown",
   "metadata": {
    "hidden": true
   },
   "source": [
    "You can think of variables as buckets. Though a more accurate analogy is an arm (the variable) holding onto information (the values). "
   ]
  },
  {
   "cell_type": "markdown",
   "metadata": {
    "heading_collapsed": true,
    "hidden": true
   },
   "source": [
    "## Coding Conventions"
   ]
  },
  {
   "cell_type": "markdown",
   "metadata": {
    "hidden": true
   },
   "source": [
    "**What is the goal of code?**\n",
    "> You'll read it more than you'll write it!"
   ]
  },
  {
   "cell_type": "markdown",
   "metadata": {
    "heading_collapsed": true,
    "hidden": true
   },
   "source": [
    "### We're Not Animals, We Have Standards! 🧐"
   ]
  },
  {
   "cell_type": "markdown",
   "metadata": {
    "hidden": true
   },
   "source": [
    "It helps if we can all get on the same page when writing code since ambiguity of conventions can cause a headache for both the reader and the writer parties! (Looking at you [Oxford comma]!)(https://en.wikipedia.org/wiki/Serial_comma)"
   ]
  },
  {
   "cell_type": "markdown",
   "metadata": {
    "hidden": true
   },
   "source": [
    "[PEP8](https://www.python.org/dev/peps/pep-0008/) from the [Python Enhancement Proposals or PEPs](https://www.python.org/dev/peps/) is a generally accepted way writing code. There are a bunch of tools out there that can be helpful in making our code follow the standard ([`autopep8`](https://github.com/hhatto/autopep8) for example)."
   ]
  },
  {
   "cell_type": "markdown",
   "metadata": {
    "hidden": true
   },
   "source": [
    "But there can be other standards as well. For example, [Google's Python style guide](http://google.github.io/styleguide/pyguide.html) is quite good!\n",
    "\n",
    "We will go a little more in depth with this this later in the program!"
   ]
  },
  {
   "cell_type": "markdown",
   "metadata": {
    "heading_collapsed": true,
    "hidden": true
   },
   "source": [
    "### Other Best Practices"
   ]
  },
  {
   "cell_type": "markdown",
   "metadata": {
    "hidden": true
   },
   "source": [
    "At the end of the day, it's important to follow what your team's conventions are. But here are some areas you might want to consider in whatever code you're writing"
   ]
  },
  {
   "cell_type": "markdown",
   "metadata": {
    "heading_collapsed": true,
    "hidden": true
   },
   "source": [
    "#### Readability"
   ]
  },
  {
   "cell_type": "markdown",
   "metadata": {
    "hidden": true
   },
   "source": [
    "- no \"magic numbers\"\n",
    "- variables: lowercase and snakecase\n",
    "- constants: all caps\n",
    "- \"internal use\": start with underscore\n",
    "- classes: capitals (We'll see this in later phases)"
   ]
  },
  {
   "cell_type": "markdown",
   "metadata": {
    "heading_collapsed": true,
    "hidden": true
   },
   "source": [
    "#### Don't Repeat Yourself"
   ]
  },
  {
   "cell_type": "markdown",
   "metadata": {
    "hidden": true
   },
   "source": [
    "Usually this means avoid writing more code. Typically this will apply to **functions** (we'll talk about these later) but also can apply to what kind of code you're writing.\n",
    "\n",
    "If you find yourself literally copying and pasting sections of code, you probably should re-evaluate."
   ]
  },
  {
   "cell_type": "markdown",
   "metadata": {
    "hidden": true
   },
   "source": [
    "In terms of functions (again, we'll discuss later more about this), you want to name the function as an action to say what it will do."
   ]
  },
  {
   "cell_type": "markdown",
   "metadata": {
    "heading_collapsed": true,
    "hidden": true
   },
   "source": [
    "#### Security"
   ]
  },
  {
   "cell_type": "markdown",
   "metadata": {
    "hidden": true
   },
   "source": [
    "Don't hard code passwords and/or API keys!"
   ]
  },
  {
   "cell_type": "markdown",
   "metadata": {
    "heading_collapsed": true
   },
   "source": [
    "# Data Types"
   ]
  },
  {
   "cell_type": "code",
   "execution_count": null,
   "metadata": {
    "hidden": true
   },
   "outputs": [],
   "source": [
    "string = 'What is the meaning of life?'\n",
    "string2 = '525,600 minutes'\n",
    "number = 42.0\n",
    "another_num = 42\n",
    "_bool = False\n",
    "n = None"
   ]
  },
  {
   "cell_type": "markdown",
   "metadata": {
    "hidden": true
   },
   "source": [
    "Everything in Python has a **type**, which defines what the object can store. You can find out the type of anything using the `type()` function."
   ]
  },
  {
   "cell_type": "code",
   "execution_count": null,
   "metadata": {
    "hidden": true
   },
   "outputs": [],
   "source": [
    "type(number)"
   ]
  },
  {
   "cell_type": "code",
   "execution_count": null,
   "metadata": {
    "hidden": true
   },
   "outputs": [],
   "source": [
    "type(another_num)"
   ]
  },
  {
   "cell_type": "code",
   "execution_count": null,
   "metadata": {
    "hidden": true
   },
   "outputs": [],
   "source": [
    "print(number / another_num)\n",
    "type(number / another_num)"
   ]
  },
  {
   "cell_type": "markdown",
   "metadata": {
    "hidden": true
   },
   "source": [
    "Common types are strings (`str`), integers (`int`), floats (`float`), Booleans (`bool`). You can also collect a bunch of objects into one object, such as with lists (`list`) and dictionaries (`dict`).\n",
    "\n",
    "Let's check out some of these different types."
   ]
  },
  {
   "cell_type": "markdown",
   "metadata": {
    "heading_collapsed": true,
    "hidden": true
   },
   "source": [
    "## Integers and Floats"
   ]
  },
  {
   "cell_type": "markdown",
   "metadata": {
    "hidden": true
   },
   "source": [
    "Integers and floats are numeric types in Python. Floats have decimal points and integers do not."
   ]
  },
  {
   "cell_type": "code",
   "execution_count": null,
   "metadata": {
    "hidden": true
   },
   "outputs": [],
   "source": [
    "type(0)"
   ]
  },
  {
   "cell_type": "code",
   "execution_count": null,
   "metadata": {
    "hidden": true
   },
   "outputs": [],
   "source": [
    "type(0.)"
   ]
  },
  {
   "cell_type": "code",
   "execution_count": null,
   "metadata": {
    "hidden": true
   },
   "outputs": [],
   "source": [
    "type(0.789)"
   ]
  },
  {
   "cell_type": "markdown",
   "metadata": {
    "hidden": true
   },
   "source": [
    "Python DOES allow arithmetic across these two types:"
   ]
  },
  {
   "cell_type": "code",
   "execution_count": null,
   "metadata": {
    "hidden": true
   },
   "outputs": [],
   "source": [
    "10 + 15.35"
   ]
  },
  {
   "cell_type": "code",
   "execution_count": null,
   "metadata": {
    "hidden": true
   },
   "outputs": [],
   "source": [
    "10 % 6 / 6"
   ]
  },
  {
   "cell_type": "markdown",
   "metadata": {
    "hidden": true
   },
   "source": [
    "Python ```int```s are **coerced** into ```float```s for these calculations."
   ]
  },
  {
   "cell_type": "markdown",
   "metadata": {
    "heading_collapsed": true,
    "hidden": true
   },
   "source": [
    "### Ranges"
   ]
  },
  {
   "cell_type": "markdown",
   "metadata": {
    "hidden": true
   },
   "source": [
    "The `range()` function can be used to create a `range` object, which defines a span of equally-spaced integers."
   ]
  },
  {
   "cell_type": "code",
   "execution_count": null,
   "metadata": {
    "hidden": true
   },
   "outputs": [],
   "source": [
    "bob = range(8)\n",
    "\n",
    "bob"
   ]
  },
  {
   "cell_type": "code",
   "execution_count": null,
   "metadata": {
    "hidden": true
   },
   "outputs": [],
   "source": [
    "type(bob)"
   ]
  },
  {
   "cell_type": "code",
   "execution_count": null,
   "metadata": {
    "hidden": true
   },
   "outputs": [],
   "source": [
    "list(bob)"
   ]
  },
  {
   "cell_type": "code",
   "execution_count": null,
   "metadata": {
    "hidden": true
   },
   "outputs": [],
   "source": [
    "len(bob)"
   ]
  },
  {
   "cell_type": "code",
   "execution_count": null,
   "metadata": {
    "hidden": true
   },
   "outputs": [],
   "source": [
    "list(range(2, 10, 2))"
   ]
  },
  {
   "cell_type": "markdown",
   "metadata": {
    "heading_collapsed": true,
    "hidden": true
   },
   "source": [
    "## Booleans"
   ]
  },
  {
   "cell_type": "markdown",
   "metadata": {
    "hidden": true
   },
   "source": [
    "There are only two values of a Boolean: True and False."
   ]
  },
  {
   "cell_type": "code",
   "execution_count": null,
   "metadata": {
    "hidden": true
   },
   "outputs": [],
   "source": [
    "type(False)"
   ]
  },
  {
   "cell_type": "code",
   "execution_count": null,
   "metadata": {
    "hidden": true
   },
   "outputs": [],
   "source": [
    "type('false')"
   ]
  },
  {
   "cell_type": "code",
   "execution_count": null,
   "metadata": {
    "hidden": true
   },
   "outputs": [],
   "source": [
    "type(false)"
   ]
  },
  {
   "cell_type": "markdown",
   "metadata": {
    "hidden": true
   },
   "source": [
    "Booleans are useful when you want to check to see whether some condition has been satisfied."
   ]
  },
  {
   "cell_type": "markdown",
   "metadata": {
    "heading_collapsed": true,
    "hidden": true
   },
   "source": [
    "### 0 and 1"
   ]
  },
  {
   "cell_type": "markdown",
   "metadata": {
    "hidden": true
   },
   "source": [
    "In Python, 1 and **True** are equal, and 0 and **False** are equal, even though they officially have different data types."
   ]
  },
  {
   "cell_type": "code",
   "execution_count": null,
   "metadata": {
    "hidden": true
   },
   "outputs": [],
   "source": [
    "1 == True"
   ]
  },
  {
   "cell_type": "code",
   "execution_count": null,
   "metadata": {
    "hidden": true
   },
   "outputs": [],
   "source": [
    "0 == False"
   ]
  },
  {
   "cell_type": "code",
   "execution_count": null,
   "metadata": {
    "hidden": true
   },
   "outputs": [],
   "source": [
    "type(0)"
   ]
  },
  {
   "cell_type": "code",
   "execution_count": null,
   "metadata": {
    "hidden": true
   },
   "outputs": [],
   "source": [
    "type(False)"
   ]
  },
  {
   "cell_type": "markdown",
   "metadata": {
    "heading_collapsed": true,
    "hidden": true
   },
   "source": [
    "## Strings"
   ]
  },
  {
   "cell_type": "markdown",
   "metadata": {
    "hidden": true
   },
   "source": [
    "Strings are pieces of text. In order for the computer to understand a string as such, it must be placed in single or double quotes:"
   ]
  },
  {
   "cell_type": "code",
   "execution_count": null,
   "metadata": {
    "hidden": true
   },
   "outputs": [],
   "source": [
    "'This is a string'"
   ]
  },
  {
   "cell_type": "code",
   "execution_count": null,
   "metadata": {
    "hidden": true
   },
   "outputs": [],
   "source": [
    "type('This is a string')"
   ]
  },
  {
   "cell_type": "code",
   "execution_count": null,
   "metadata": {
    "hidden": true,
    "scrolled": true
   },
   "outputs": [],
   "source": [
    "# This will give an error! (Don't worry, you won't break your computer 😉)\n",
    "This is not a string"
   ]
  },
  {
   "cell_type": "markdown",
   "metadata": {
    "hidden": true
   },
   "source": [
    "Note that the quotes are not printed when you use the `print()` function"
   ]
  },
  {
   "cell_type": "code",
   "execution_count": null,
   "metadata": {
    "hidden": true
   },
   "outputs": [],
   "source": [
    "print('This is a string')"
   ]
  },
  {
   "cell_type": "markdown",
   "metadata": {
    "heading_collapsed": true,
    "hidden": true
   },
   "source": [
    "### Characters"
   ]
  },
  {
   "cell_type": "markdown",
   "metadata": {
    "hidden": true
   },
   "source": [
    "Strings are made up of **characters** - these are usually letters or numbers. The `len()` function tells you how many characters are in your string."
   ]
  },
  {
   "cell_type": "code",
   "execution_count": null,
   "metadata": {
    "hidden": true
   },
   "outputs": [],
   "source": [
    "len('potato')"
   ]
  },
  {
   "cell_type": "markdown",
   "metadata": {
    "hidden": true
   },
   "source": [
    "Some special characters need a backslash in front to be stored correctly - these are called **escape characters**."
   ]
  },
  {
   "cell_type": "code",
   "execution_count": null,
   "metadata": {
    "hidden": true
   },
   "outputs": [],
   "source": [
    "fav_string = 'Here\\'s my favorite string:\\n String Cheese'\n",
    "print(fav_string)"
   ]
  },
  {
   "cell_type": "markdown",
   "metadata": {
    "hidden": true
   },
   "source": [
    "Triple quotes are useful for creating long strings that break across multiple lines. You can also use them to create strings that contain single or double quotes."
   ]
  },
  {
   "cell_type": "code",
   "execution_count": null,
   "metadata": {
    "hidden": true
   },
   "outputs": [],
   "source": [
    "print(\"\"\"\n",
    "Hey y'all. \n",
    "Where's the \"party\"?\n",
    "\"\"\")"
   ]
  },
  {
   "cell_type": "markdown",
   "metadata": {
    "heading_collapsed": true,
    "hidden": true
   },
   "source": [
    "### Indexing"
   ]
  },
  {
   "cell_type": "markdown",
   "metadata": {
    "hidden": true
   },
   "source": [
    "You can index strings to get specific characters. Note that the first character is in position 0."
   ]
  },
  {
   "cell_type": "code",
   "execution_count": null,
   "metadata": {
    "hidden": true
   },
   "outputs": [],
   "source": [
    "name = 'Prince'"
   ]
  },
  {
   "cell_type": "code",
   "execution_count": null,
   "metadata": {
    "hidden": true
   },
   "outputs": [],
   "source": [
    "name[0]"
   ]
  },
  {
   "cell_type": "code",
   "execution_count": null,
   "metadata": {
    "hidden": true
   },
   "outputs": [],
   "source": [
    "name[2]"
   ]
  },
  {
   "cell_type": "code",
   "execution_count": null,
   "metadata": {
    "hidden": true
   },
   "outputs": [],
   "source": [
    "name[-2]"
   ]
  },
  {
   "cell_type": "markdown",
   "metadata": {
    "heading_collapsed": true,
    "hidden": true
   },
   "source": [
    "### Slicing"
   ]
  },
  {
   "cell_type": "markdown",
   "metadata": {
    "hidden": true
   },
   "source": [
    "Strings can be sliced, if you want to extract a portion of a string:"
   ]
  },
  {
   "cell_type": "code",
   "execution_count": null,
   "metadata": {
    "hidden": true,
    "scrolled": true
   },
   "outputs": [],
   "source": [
    "name[2:4]"
   ]
  },
  {
   "cell_type": "code",
   "execution_count": null,
   "metadata": {
    "hidden": true
   },
   "outputs": [],
   "source": [
    "name[2:]"
   ]
  },
  {
   "cell_type": "code",
   "execution_count": null,
   "metadata": {
    "hidden": true
   },
   "outputs": [],
   "source": [
    "name[:4]"
   ]
  },
  {
   "cell_type": "code",
   "execution_count": null,
   "metadata": {
    "hidden": true
   },
   "outputs": [],
   "source": [
    "name[:-4]"
   ]
  },
  {
   "cell_type": "code",
   "execution_count": null,
   "metadata": {
    "hidden": true
   },
   "outputs": [],
   "source": [
    "name[::2]"
   ]
  },
  {
   "cell_type": "code",
   "execution_count": null,
   "metadata": {
    "hidden": true
   },
   "outputs": [],
   "source": [
    "name[::-2]"
   ]
  },
  {
   "cell_type": "markdown",
   "metadata": {
    "hidden": true
   },
   "source": [
    "Python strings are **immutable**, which means that you can't reassign any part of one:"
   ]
  },
  {
   "cell_type": "code",
   "execution_count": null,
   "metadata": {
    "hidden": true
   },
   "outputs": [],
   "source": [
    "name[3] = 'f'"
   ]
  },
  {
   "cell_type": "code",
   "execution_count": null,
   "metadata": {
    "hidden": true
   },
   "outputs": [],
   "source": [
    "name.replace('i', 'o')"
   ]
  },
  {
   "cell_type": "code",
   "execution_count": null,
   "metadata": {
    "hidden": true
   },
   "outputs": [],
   "source": [
    "name"
   ]
  },
  {
   "cell_type": "markdown",
   "metadata": {
    "hidden": true
   },
   "source": [
    "For more on what you can do with strings, just type ```help(str)```!"
   ]
  },
  {
   "cell_type": "code",
   "execution_count": null,
   "metadata": {
    "hidden": true
   },
   "outputs": [],
   "source": [
    "help(str)"
   ]
  },
  {
   "cell_type": "markdown",
   "metadata": {
    "heading_collapsed": true,
    "hidden": true
   },
   "source": [
    "### String Methods"
   ]
  },
  {
   "cell_type": "markdown",
   "metadata": {
    "hidden": true
   },
   "source": [
    "Here are some useful methods for strings:\n",
    "\n",
    "- ```.upper()```: converts a string to uppercase\n",
    "- ```.lower()```: converts a string to lowercase\n",
    "- ```.capitalize()```: makes the first letter of a string a capital"
   ]
  },
  {
   "cell_type": "markdown",
   "metadata": {
    "hidden": true
   },
   "source": [
    "Question: What's the difference between `.capitalize()` and `.title()`?\n",
    "\n",
    "<details>\n",
    "    <summary>\n",
    "    Answer here\n",
    "    </summary>\n",
    "    .capitalize() capitalizes the first letter of a string;<br/>\n",
    "        .title() capitalizes the first letter and each letter after a space\n",
    "    </details>"
   ]
  },
  {
   "cell_type": "code",
   "execution_count": null,
   "metadata": {
    "hidden": true
   },
   "outputs": [],
   "source": [
    "first_name = 'bender'\n",
    "middle_name = 'bending' \n",
    "last_name ='rodriguez'"
   ]
  },
  {
   "cell_type": "code",
   "execution_count": null,
   "metadata": {
    "hidden": true
   },
   "outputs": [],
   "source": [
    "# .capitalize()\n",
    "\n"
   ]
  },
  {
   "cell_type": "code",
   "execution_count": null,
   "metadata": {
    "hidden": true
   },
   "outputs": [],
   "source": [
    "# .title()\n",
    "\n"
   ]
  },
  {
   "cell_type": "markdown",
   "metadata": {
    "hidden": true
   },
   "source": [
    "Notice that '+' is used to concatenate strings! But we can do some other fun ways of joining"
   ]
  },
  {
   "cell_type": "code",
   "execution_count": null,
   "metadata": {
    "hidden": true
   },
   "outputs": [],
   "source": [
    "# .join()\n",
    "name_parts = [first_name,middle_name,last_name]\n",
    "''.join(name_parts)"
   ]
  },
  {
   "cell_type": "code",
   "execution_count": null,
   "metadata": {
    "hidden": true
   },
   "outputs": [],
   "source": [
    "'--'.join('BENDER')"
   ]
  },
  {
   "cell_type": "markdown",
   "metadata": {
    "heading_collapsed": true,
    "hidden": true
   },
   "source": [
    "### f-Strings"
   ]
  },
  {
   "cell_type": "markdown",
   "metadata": {
    "hidden": true
   },
   "source": [
    "f-strings are a convenient way to bring variables into strings."
   ]
  },
  {
   "cell_type": "code",
   "execution_count": null,
   "metadata": {
    "hidden": true
   },
   "outputs": [],
   "source": [
    "fav_num = 42\n",
    "adj = 'greatest'\n",
    "print(f\"I love {fav_num}. It's the {adj}!\")"
   ]
  },
  {
   "cell_type": "markdown",
   "metadata": {
    "hidden": true
   },
   "source": [
    "We can do some operations within the string"
   ]
  },
  {
   "cell_type": "code",
   "execution_count": null,
   "metadata": {
    "hidden": true
   },
   "outputs": [],
   "source": [
    "meaning_of_life = 41\n",
    "f\"What is the meaning of life? {meaning_of_life + 1}\""
   ]
  },
  {
   "cell_type": "markdown",
   "metadata": {
    "hidden": true
   },
   "source": [
    "We can format the string too!"
   ]
  },
  {
   "cell_type": "code",
   "execution_count": null,
   "metadata": {
    "hidden": true
   },
   "outputs": [],
   "source": [
    "PI = 3.141592653589793\n",
    "\n",
    "long_str = f\"What is pi? {PI}\"\n",
    "print(long_str)\n",
    "\n",
    "short_str = f\"What is pi? {PI:.3}\"\n",
    "print(short_str)"
   ]
  },
  {
   "cell_type": "markdown",
   "metadata": {
    "heading_collapsed": true,
    "hidden": true
   },
   "source": [
    "## Casting"
   ]
  },
  {
   "cell_type": "markdown",
   "metadata": {
    "hidden": true
   },
   "source": [
    "Sometimes we want to turn an object of one data type into another - we call this **casting**. There are Python functions to help with it, but be careful because there can be unintended results."
   ]
  },
  {
   "cell_type": "code",
   "execution_count": null,
   "metadata": {
    "hidden": true
   },
   "outputs": [],
   "source": [
    "str(8)"
   ]
  },
  {
   "cell_type": "code",
   "execution_count": null,
   "metadata": {
    "hidden": true
   },
   "outputs": [],
   "source": [
    "int(8.9)"
   ]
  },
  {
   "cell_type": "code",
   "execution_count": null,
   "metadata": {
    "hidden": true
   },
   "outputs": [],
   "source": [
    "bool(0)"
   ]
  },
  {
   "cell_type": "code",
   "execution_count": null,
   "metadata": {
    "hidden": true
   },
   "outputs": [],
   "source": [
    "bool(2)"
   ]
  },
  {
   "cell_type": "markdown",
   "metadata": {
    "heading_collapsed": true
   },
   "source": [
    "# Data Structures"
   ]
  },
  {
   "cell_type": "markdown",
   "metadata": {
    "heading_collapsed": true,
    "hidden": true
   },
   "source": [
    "## Lists"
   ]
  },
  {
   "cell_type": "markdown",
   "metadata": {
    "hidden": true
   },
   "source": [
    "A list is an **ordered** collection of objects. Use square brackets for lists."
   ]
  },
  {
   "cell_type": "code",
   "execution_count": null,
   "metadata": {
    "hidden": true
   },
   "outputs": [],
   "source": [
    "random_list = [1, 'alan', 8.5, True]"
   ]
  },
  {
   "cell_type": "markdown",
   "metadata": {
    "hidden": true
   },
   "source": [
    "Lists can be sliced, just like strings:"
   ]
  },
  {
   "cell_type": "code",
   "execution_count": null,
   "metadata": {
    "hidden": true
   },
   "outputs": [],
   "source": [
    "random_list[1:]"
   ]
  },
  {
   "cell_type": "code",
   "execution_count": null,
   "metadata": {
    "hidden": true
   },
   "outputs": [],
   "source": [
    "random_list_2 = ['alan', 8.5, True, 1]\n",
    "\n",
    "random_list == random_list_2"
   ]
  },
  {
   "cell_type": "markdown",
   "metadata": {
    "hidden": true
   },
   "source": [
    "Lists are **mutable**, meaning that you can re-assign values:"
   ]
  },
  {
   "cell_type": "code",
   "execution_count": null,
   "metadata": {
    "hidden": true
   },
   "outputs": [],
   "source": [
    "random_list[2] = '85'\n",
    "random_list"
   ]
  },
  {
   "cell_type": "code",
   "execution_count": null,
   "metadata": {
    "hidden": true
   },
   "outputs": [],
   "source": [
    "random_list.append('85')\n",
    "random_list"
   ]
  },
  {
   "cell_type": "code",
   "execution_count": null,
   "metadata": {
    "hidden": true
   },
   "outputs": [],
   "source": [
    "random_list.remove('alan')\n",
    "\n",
    "random_list"
   ]
  },
  {
   "cell_type": "markdown",
   "metadata": {
    "heading_collapsed": true,
    "hidden": true
   },
   "source": [
    "### List Methods"
   ]
  },
  {
   "cell_type": "markdown",
   "metadata": {
    "hidden": true
   },
   "source": [
    "* .pop() - remove last element added\n",
    "* .append() - add element to end of list\n",
    "* .insert() - inserts new element\n",
    "* .remove() - remove element from list\n",
    "* .extend() - extends one list with elements from another "
   ]
  },
  {
   "cell_type": "code",
   "execution_count": null,
   "metadata": {
    "hidden": true
   },
   "outputs": [],
   "source": [
    "list_1 = [1, 2, 4]\n",
    "\n",
    "list_2 = [8, 16]"
   ]
  },
  {
   "cell_type": "code",
   "execution_count": null,
   "metadata": {
    "hidden": true
   },
   "outputs": [],
   "source": [
    "# Add list_2 to list_1 so that we have one big list\n",
    "\n",
    "# Note that this alters list_1!\n",
    "\n",
    "\n",
    "list_1.extend(list_2)\n",
    "list_1"
   ]
  },
  {
   "cell_type": "code",
   "execution_count": null,
   "metadata": {
    "hidden": true
   },
   "outputs": [],
   "source": [
    "# What would this code return?\n",
    "\n",
    "list_1.append(list_2)"
   ]
  },
  {
   "cell_type": "code",
   "execution_count": null,
   "metadata": {
    "hidden": true
   },
   "outputs": [],
   "source": [
    "# Let's write a loop that will build a list of the characters of the\n",
    "# string: 'supercalifragilisticexpialidocious'\n",
    "\n",
    "word = 'supercalifragilisticexpialidocious'\n",
    "char_list = []\n",
    "\n"
   ]
  },
  {
   "cell_type": "code",
   "execution_count": null,
   "metadata": {
    "hidden": true
   },
   "outputs": [],
   "source": [
    "# What does list(word) do?\n",
    "\n",
    "list(word)"
   ]
  },
  {
   "cell_type": "code",
   "execution_count": null,
   "metadata": {
    "hidden": true
   },
   "outputs": [],
   "source": [
    "list_1.pop()\n",
    "\n",
    "# What does this return?\n",
    "# What does list_1 look like now?\n"
   ]
  },
  {
   "cell_type": "markdown",
   "metadata": {
    "heading_collapsed": true,
    "hidden": true
   },
   "source": [
    "## Tuples"
   ]
  },
  {
   "cell_type": "markdown",
   "metadata": {
    "hidden": true
   },
   "source": [
    "Tuples are ordered objects that support indexing in the same way that lists do."
   ]
  },
  {
   "cell_type": "code",
   "execution_count": null,
   "metadata": {
    "hidden": true
   },
   "outputs": [],
   "source": [
    "my_tuple = (1, 2, 3)\n",
    "type()"
   ]
  },
  {
   "cell_type": "code",
   "execution_count": null,
   "metadata": {
    "hidden": true
   },
   "outputs": [],
   "source": [
    "my_tuple[0]"
   ]
  },
  {
   "cell_type": "markdown",
   "metadata": {
    "hidden": true
   },
   "source": [
    "But unlike lists, tuples are **immutable**. This makes them a little more computationally efficient, and can also be helpful to ensure that data are not changed when they shouldn't be."
   ]
  },
  {
   "cell_type": "code",
   "execution_count": null,
   "metadata": {
    "hidden": true
   },
   "outputs": [],
   "source": [
    "triple = (1, 2, 3)\n",
    "\n",
    "triple[0] = 3"
   ]
  },
  {
   "cell_type": "markdown",
   "metadata": {
    "heading_collapsed": true,
    "hidden": true
   },
   "source": [
    "## Sets"
   ]
  },
  {
   "cell_type": "markdown",
   "metadata": {
    "hidden": true
   },
   "source": [
    "Sets are **unordered**, and so they do not support indexing. But they are **mutable**."
   ]
  },
  {
   "cell_type": "code",
   "execution_count": null,
   "metadata": {
    "hidden": true
   },
   "outputs": [],
   "source": [
    "set1 = {1, 2, 3}\n",
    "\n",
    "set1.add(4)\n",
    "\n",
    "set1"
   ]
  },
  {
   "cell_type": "markdown",
   "metadata": {
    "hidden": true
   },
   "source": [
    "Sets also cannot hold duplicate entries"
   ]
  },
  {
   "cell_type": "code",
   "execution_count": null,
   "metadata": {
    "hidden": true
   },
   "outputs": [],
   "source": [
    "set2 = {3, 4, 5, 5}\n",
    "set2"
   ]
  },
  {
   "cell_type": "code",
   "execution_count": null,
   "metadata": {
    "hidden": true
   },
   "outputs": [],
   "source": [
    "set2.add(5)\n",
    "set2"
   ]
  },
  {
   "cell_type": "code",
   "execution_count": null,
   "metadata": {
    "hidden": true
   },
   "outputs": [],
   "source": [
    "set([1, 'square', 'blue', 'square'])"
   ]
  },
  {
   "cell_type": "markdown",
   "metadata": {
    "heading_collapsed": true,
    "hidden": true
   },
   "source": [
    "## Dictionaries"
   ]
  },
  {
   "cell_type": "markdown",
   "metadata": {
    "hidden": true
   },
   "source": [
    "A dictionary is an unordered collection of _paired_ elements. As an analogy, think of how an English dictionary pairs words and definitions: You look up a word to find the definition.\n",
    "\n",
    "The first elements of the pairs are called \"keys\", which must be immutable objects (e.g. strings or tuples).\n",
    "The second elements of the pairs are called \"values\", which can be any object.\n",
    "\n",
    "Use curly braces for dictionaries."
   ]
  },
  {
   "cell_type": "code",
   "execution_count": null,
   "metadata": {
    "hidden": true
   },
   "outputs": [],
   "source": [
    "greg = {'name': 'greg', 'occupation': 'data_scientist',\n",
    "            'HP': 140, 'favorite_color': 'green', 'weakness': 'decaf_sensitivity'}\n",
    "\n",
    "type(greg)"
   ]
  },
  {
   "cell_type": "code",
   "execution_count": null,
   "metadata": {
    "hidden": true
   },
   "outputs": [],
   "source": [
    "greg.keys()"
   ]
  },
  {
   "cell_type": "code",
   "execution_count": null,
   "metadata": {
    "hidden": true
   },
   "outputs": [],
   "source": [
    "greg.values()"
   ]
  },
  {
   "cell_type": "code",
   "execution_count": null,
   "metadata": {
    "hidden": true,
    "scrolled": true
   },
   "outputs": [],
   "source": [
    "greg.items()"
   ]
  },
  {
   "cell_type": "markdown",
   "metadata": {
    "hidden": true
   },
   "source": [
    "To access a \"definition\", just look up the \"word\"!"
   ]
  },
  {
   "cell_type": "code",
   "execution_count": null,
   "metadata": {
    "hidden": true
   },
   "outputs": [],
   "source": [
    "greg['occupation'] = 'wizard'\n",
    "\n",
    "greg['occupation']"
   ]
  },
  {
   "cell_type": "code",
   "execution_count": null,
   "metadata": {
    "hidden": true
   },
   "outputs": [],
   "source": [
    "joél = {}\n",
    "\n",
    "type(joél)"
   ]
  },
  {
   "cell_type": "markdown",
   "metadata": {
    "heading_collapsed": true,
    "hidden": true
   },
   "source": [
    "### Dictionary Methods"
   ]
  },
  {
   "cell_type": "markdown",
   "metadata": {
    "hidden": true
   },
   "source": [
    "Here are some useful methods for dictionaries:\n",
    "\n",
    "- ```.keys()```: returns an array of the dictionary's keys\n",
    "- ```.values()```: returns an array of the dictionary's values\n",
    "- ```.items()```: returns an array of key-value tuples"
   ]
  },
  {
   "cell_type": "code",
   "execution_count": null,
   "metadata": {
    "hidden": true
   },
   "outputs": [],
   "source": [
    "zoo = {1: 'giraffe', 2: 'elephant', 3: 'monkey'}"
   ]
  },
  {
   "cell_type": "code",
   "execution_count": null,
   "metadata": {
    "hidden": true
   },
   "outputs": [],
   "source": [
    "# Use the .keys() method to print the keys of this dictionary!\n",
    "\n",
    "# Use the .values() method to print the values of this dictionary!\n",
    "\n",
    "\n",
    "for item in zoo.items():\n",
    "    print(item[0])\n",
    "    "
   ]
  },
  {
   "cell_type": "markdown",
   "metadata": {
    "heading_collapsed": true,
    "hidden": true
   },
   "source": [
    "## Level Up: Iterators"
   ]
  },
  {
   "cell_type": "markdown",
   "metadata": {
    "hidden": true
   },
   "source": [
    "Use `iter()` to turn an iterable object into an **iterator**. Iterators produce one value at a time and stop once all the values have run out."
   ]
  },
  {
   "cell_type": "code",
   "execution_count": null,
   "metadata": {
    "hidden": true
   },
   "outputs": [],
   "source": [
    "popcorn_iterator = iter(\"popcorn\")\n",
    "type(popcorn_iterator)"
   ]
  },
  {
   "cell_type": "code",
   "execution_count": null,
   "metadata": {
    "hidden": true
   },
   "outputs": [],
   "source": [
    "next(popcorn_iterator)"
   ]
  }
 ],
 "metadata": {
  "kernelspec": {
   "display_name": "Python 3",
   "language": "python",
   "name": "python3"
  },
  "language_info": {
   "codemirror_mode": {
    "name": "ipython",
    "version": 3
   },
   "file_extension": ".py",
   "mimetype": "text/x-python",
   "name": "python",
   "nbconvert_exporter": "python",
   "pygments_lexer": "ipython3",
   "version": "3.8.8"
  },
  "toc": {
   "base_numbering": 1,
   "nav_menu": {},
   "number_sections": true,
   "sideBar": false,
   "skip_h1_title": false,
   "title_cell": "Table of Contents",
   "title_sidebar": "TOC",
   "toc_cell": true,
   "toc_position": {
    "height": "920px",
    "left": "48px",
    "top": "134px",
    "width": "288px"
   },
   "toc_section_display": false,
   "toc_window_display": false
  }
 },
 "nbformat": 4,
 "nbformat_minor": 4
}
